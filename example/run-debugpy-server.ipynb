{
 "cells": [
  {
   "cell_type": "code",
   "execution_count": null,
   "metadata": {},
   "outputs": [],
   "source": [
    "# debugpy_server.py\n",
    "import debugpy\n",
    "\n",
    "# 綁定 0.0.0.0:5678（或指定內網IP），允許 VS Code 等 IDE 遠端連線\n",
    "debugpy.listen((\"0.0.0.0\", 5678))\n",
    "print(\"等待 debugger 連線中，埠號 5678…\")\n",
    "\n",
    "# 若你希望在連線前先暫停腳本，可啟用下一行\n",
    "# debugpy.wait_for_client()\n",
    "\n",
    "# 連線後繼續執行你要測試的程式區塊\n",
    "# 以下只是示範保持進程不中斷\n",
    "import time\n",
    "while True:\n",
    "    time.sleep(1)\n"
   ]
  }
 ],
 "metadata": {
  "kernelspec": {
   "display_name": "Python 3",
   "language": "python",
   "name": "python3"
  },
  "language_info": {
   "name": "python",
   "version": "3.10.13"
  }
 },
 "nbformat": 4,
 "nbformat_minor": 2
}
